{
  "nbformat": 4,
  "nbformat_minor": 0,
  "metadata": {
    "colab": {
      "name": "Vine_Review_Analysis.ipynb",
      "provenance": []
    },
    "kernelspec": {
      "name": "python3",
      "display_name": "Python 3"
    },
    "language_info": {
      "name": "python"
    }
  },
  "cells": [
    {
      "cell_type": "code",
      "execution_count": null,
      "metadata": {
        "colab": {
          "base_uri": "https://localhost:8080/"
        },
        "id": "QeMby428_GPO",
        "outputId": "7380e33b-295c-490b-b16e-8b990ab8fda8"
      },
      "outputs": [
        {
          "output_type": "stream",
          "name": "stdout",
          "text": [
            "Hit:1 http://archive.ubuntu.com/ubuntu bionic InRelease\n",
            "Get:2 https://cloud.r-project.org/bin/linux/ubuntu bionic-cran40/ InRelease [3,626 B]\n",
            "Get:3 http://archive.ubuntu.com/ubuntu bionic-updates InRelease [88.7 kB]\n",
            "Get:4 http://security.ubuntu.com/ubuntu bionic-security InRelease [88.7 kB]\n",
            "Get:5 http://ppa.launchpad.net/c2d4u.team/c2d4u4.0+/ubuntu bionic InRelease [15.9 kB]\n",
            "Get:6 http://archive.ubuntu.com/ubuntu bionic-backports InRelease [74.6 kB]\n",
            "Hit:7 http://ppa.launchpad.net/cran/libgit2/ubuntu bionic InRelease\n",
            "Hit:8 http://ppa.launchpad.net/deadsnakes/ppa/ubuntu bionic InRelease\n",
            "Get:9 https://developer.download.nvidia.com/compute/cuda/repos/ubuntu1804/x86_64  InRelease [1,581 B]\n",
            "Hit:10 http://ppa.launchpad.net/graphics-drivers/ppa/ubuntu bionic InRelease\n",
            "Get:11 https://cloud.r-project.org/bin/linux/ubuntu bionic-cran40/ Packages [85.6 kB]\n",
            "Get:12 http://archive.ubuntu.com/ubuntu bionic-updates/universe amd64 Packages [2,304 kB]\n",
            "Ign:13 https://developer.download.nvidia.com/compute/machine-learning/repos/ubuntu1804/x86_64  InRelease\n",
            "Hit:14 https://developer.download.nvidia.com/compute/machine-learning/repos/ubuntu1804/x86_64  Release\n",
            "Get:15 http://archive.ubuntu.com/ubuntu bionic-updates/restricted amd64 Packages [1,105 kB]\n",
            "Get:16 http://ppa.launchpad.net/c2d4u.team/c2d4u4.0+/ubuntu bionic/main Sources [2,075 kB]\n",
            "Get:17 http://archive.ubuntu.com/ubuntu bionic-updates/main amd64 Packages [3,333 kB]\n",
            "Get:18 http://ppa.launchpad.net/c2d4u.team/c2d4u4.0+/ubuntu bionic/main amd64 Packages [1,063 kB]\n",
            "Get:19 http://security.ubuntu.com/ubuntu bionic-security/main amd64 Packages [2,901 kB]\n",
            "Get:20 https://developer.download.nvidia.com/compute/cuda/repos/ubuntu1804/x86_64  Packages [817 kB]\n",
            "Get:22 http://security.ubuntu.com/ubuntu bionic-security/universe amd64 Packages [1,527 kB]\n",
            "Get:23 http://security.ubuntu.com/ubuntu bionic-security/restricted amd64 Packages [1,063 kB]\n",
            "Fetched 16.5 MB in 11s (1,510 kB/s)\n",
            "Reading package lists... Done\n"
          ]
        }
      ],
      "source": [
        "import os\n",
        "# Find the latest version of spark 3.0 from http://www.apache.org/dist/spark/ and enter as the spark version\n",
        "# For example:\n",
        "# spark_version = 'spark-3.0.0'\n",
        "spark_version = 'spark-3.0.3'\n",
        "os.environ['SPARK_VERSION']=spark_version\n",
        "\n",
        "# Install Spark and Java\n",
        "!apt-get update\n",
        "!apt-get install openjdk-11-jdk-headless -qq > /dev/null\n",
        "!wget -q http://www.apache.org/dist/spark/$SPARK_VERSION/$SPARK_VERSION-bin-hadoop2.7.tgz\n",
        "!tar xf $SPARK_VERSION-bin-hadoop2.7.tgz\n",
        "!pip install -q findspark\n",
        "\n",
        "# Set Environment Variables\n",
        "import os\n",
        "os.environ[\"JAVA_HOME\"] = \"/usr/lib/jvm/java-11-openjdk-amd64\"\n",
        "os.environ[\"SPARK_HOME\"] = f\"/content/{spark_version}-bin-hadoop2.7\"\n",
        "\n",
        "# Start a SparkSession\n",
        "import findspark\n",
        "findspark.init()"
      ]
    },
    {
      "cell_type": "code",
      "source": [
        "# Download the Postgres driver that will allow Spark to interact with Postgres.\n",
        "!wget https://jdbc.postgresql.org/download/postgresql-42.2.16.jar"
      ],
      "metadata": {
        "colab": {
          "base_uri": "https://localhost:8080/"
        },
        "id": "QTaJBq7e_jJV",
        "outputId": "eb0fb74a-017c-4e62-8f78-9fe1ba5bd16d"
      },
      "execution_count": null,
      "outputs": [
        {
          "output_type": "stream",
          "name": "stdout",
          "text": [
            "--2022-07-24 20:55:31--  https://jdbc.postgresql.org/download/postgresql-42.2.16.jar\n",
            "Resolving jdbc.postgresql.org (jdbc.postgresql.org)... 72.32.157.228, 2001:4800:3e1:1::228\n",
            "Connecting to jdbc.postgresql.org (jdbc.postgresql.org)|72.32.157.228|:443... connected.\n",
            "HTTP request sent, awaiting response... 200 OK\n",
            "Length: 1002883 (979K) [application/java-archive]\n",
            "Saving to: ‘postgresql-42.2.16.jar’\n",
            "\n",
            "postgresql-42.2.16. 100%[===================>] 979.38K  --.-KB/s    in 0.1s    \n",
            "\n",
            "2022-07-24 20:55:31 (6.53 MB/s) - ‘postgresql-42.2.16.jar’ saved [1002883/1002883]\n",
            "\n"
          ]
        }
      ]
    },
    {
      "cell_type": "code",
      "source": [
        "from pyspark.sql import SparkSession\n",
        "spark = SparkSession.builder.appName(\"M16-Amazon-Challenge\").config(\"spark.driver.extraClassPath\",\"/content/postgresql-42.2.16.jar\").getOrCreate()"
      ],
      "metadata": {
        "id": "od4EwR3n_oth"
      },
      "execution_count": null,
      "outputs": []
    },
    {
      "cell_type": "code",
      "source": [
        "from pyspark import SparkFiles\n",
        "url = \"https://seridane-bucket.s3.amazonaws.com/amazon_reviews_us_Grocery_v1_00.tsv\"\n",
        "spark.sparkContext.addFile(url)\n",
        "df = spark.read.option(\"encoding\", \"UTF-8\").csv(SparkFiles.get(\"\"), sep=\"\\t\", header=True, inferSchema=True)\n",
        "df.show()"
      ],
      "metadata": {
        "colab": {
          "base_uri": "https://localhost:8080/"
        },
        "id": "kD9P_7Gh_vYG",
        "outputId": "b24a7345-42fe-42a1-9b06-50cdeb852bf6"
      },
      "execution_count": null,
      "outputs": [
        {
          "output_type": "stream",
          "name": "stdout",
          "text": [
            "+-----------+-----------+--------------+----------+--------------+--------------------+----------------+-----------+-------------+-----------+----+-----------------+--------------------+--------------------+-----------+\n",
            "|marketplace|customer_id|     review_id|product_id|product_parent|       product_title|product_category|star_rating|helpful_votes|total_votes|vine|verified_purchase|     review_headline|         review_body|review_date|\n",
            "+-----------+-----------+--------------+----------+--------------+--------------------+----------------+-----------+-------------+-----------+----+-----------------+--------------------+--------------------+-----------+\n",
            "|         US|   42521656|R26MV8D0KG6QI6|B000SAQCWC|     159713740|The Cravings Plac...|         Grocery|          5|            0|          0|   N|                Y|Using these for y...|As a family aller...| 2015-08-31|\n",
            "|         US|   12049833|R1OF8GP57AQ1A0|B00509LVIQ|     138680402|Mauna Loa Macadam...|         Grocery|          5|            0|          0|   N|                Y|           Wonderful|My favorite nut. ...| 2015-08-31|\n",
            "|         US|     107642|R3VDC1QB6MC4ZZ|B00KHXESLC|     252021703|Organic Matcha Gr...|         Grocery|          5|            0|          0|   N|                N|          Five Stars|This green tea ta...| 2015-08-31|\n",
            "|         US|    6042304|R12FA3DCF8F9ER|B000F8JIIC|     752728342|15oz Raspberry Ly...|         Grocery|          5|            0|          0|   N|                Y|          Five Stars|I love Melissa's ...| 2015-08-31|\n",
            "|         US|   18123821| RTWHVNV6X4CNJ|B004ZWR9RQ|     552138758|Stride Spark Kine...|         Grocery|          5|            0|          0|   N|                Y|          Five Stars|                good| 2015-08-31|\n",
            "|         US|   23649464| RIG9AWFOGRDVO|B00AL6QBZ6|     681475449|Herr's Popcorn Ho...|         Grocery|          2|            1|          1|   N|                Y|           Not Happy|The popcorn was s...| 2015-08-31|\n",
            "|         US|   32778285|R1S1XSG4ZCHDGS|B00BCNSTRA|     578681693|Larabar uber, 1.4...|         Grocery|          5|            1|          1|   N|                Y|          Five Stars|Love these bars, ...| 2015-08-31|\n",
            "|         US|   46612941| RB15NBVY5ELVW|B0089MM2BG|     350968436|Shirakiku Soba No...|         Grocery|          5|            2|          2|   N|                Y|          Five Stars|Love the taste bu...| 2015-08-31|\n",
            "|         US|   31525399| R56358YM1ZJ7I|B00Y1C9770|     729982780|Jif Chocolate Nut...|         Grocery|          5|            0|          0|   N|                N|      Great tasting!|I'm a member of t...| 2015-08-31|\n",
            "|         US|   19624355|R1ODXB3C9UP3NL|B00J074W94|       2499702|Orgain Organic Pl...|         Grocery|          1|            1|          3|   N|                N|Disgusting now an...|Used to be a dece...| 2015-08-31|\n",
            "|         US|   31910375|R155ZMVLD5C9BP|B0001VKKOO|     189938205|Bragg - All Natur...|         Grocery|          4|            3|          4|   N|                Y|If you like soy s...|I cannot tell the...| 2015-08-31|\n",
            "|         US|   12816533|R2IXW43PUNYM0G|B007TGH4CK|     398128262|Wholesome Sweeten...|         Grocery|          4|            1|          1|   N|                Y|          Four Stars|Good flavor and s...| 2015-08-31|\n",
            "|         US|   23208852|R3LYEG1QCK2BG0|B002HMN6SC|      18057786|Kadoya Pure Sesam...|         Grocery|          5|            0|          0|   N|                Y|          Five Stars|Great to use in r...| 2015-08-31|\n",
            "|         US|   17348415|R20LREICPM3YH0|B004NRHAZO|     595020880|Nishiki Premium B...|         Grocery|          5|            0|          0|   N|                Y|          Five Stars|It's rice. Have e...| 2015-08-31|\n",
            "|         US|   46763945| RHA5COCZDVB13|B00V7LJIG8|     173088090|Everly Passion Fr...|         Grocery|          5|            0|          0|   N|                Y|          Five Stars|Very good tasting...| 2015-08-31|\n",
            "|         US|     961747| RT9BGRQANMANE|B0000E2YFI|     120269621|Charms Blue Razzb...|         Grocery|          5|            0|          0|   N|                Y|           Excellent|They were perfect...| 2015-08-31|\n",
            "|         US|   16888081| ROD1TU5JCS7JQ|B00VK5SQOQ|     204992966|Food Should Taste...|         Grocery|          5|            0|          0|   N|                N|              YUMMY!|Wow, these are so...| 2015-08-31|\n",
            "|         US|   22765168|R3T6TTD2IN0EFZ|B00XDXMLL2|     971154239|Skippy Creamy Pea...|         Grocery|          1|            4|          4|   N|                N|1 Out Of 5 Of My ...|I bought this fro...| 2015-08-31|\n",
            "|         US|   36328996|R1OCUGZ444NKV3|B00MN4KX3A|     787182505|Celestial Seasoni...|         Grocery|          5|            5|          5|   N|                Y|delicious tea and...|I love this tea, ...| 2015-08-31|\n",
            "|         US|   27092724| RCQQGWTC4J4TZ|B004NTCE1M|     653570135|Nutiva Organic Vi...|         Grocery|          4|            0|          0|   N|                Y|    Best coconut oil|I have used servo...| 2015-08-31|\n",
            "+-----------+-----------+--------------+----------+--------------+--------------------+----------------+-----------+-------------+-----------+----+-----------------+--------------------+--------------------+-----------+\n",
            "only showing top 20 rows\n",
            "\n"
          ]
        }
      ]
    },
    {
      "cell_type": "code",
      "source": [
        "# Create the vine_table dataFrame\n",
        "total_vine_df = df.select([\"review_id\", \"star_rating\", \"helpful_votes\", \"total_votes\", \"vine\", \"verified_purchase\", \"review_headline\", \"review_body\"])\n",
        "vote_count = total_vine_df.filter(\"total_votes>20\")\n",
        "vote_count.show()"
      ],
      "metadata": {
        "colab": {
          "base_uri": "https://localhost:8080/"
        },
        "id": "lQ_TbFz0AC4y",
        "outputId": "7fcfe405-0324-4c8f-c0e1-62fe1dae6593"
      },
      "execution_count": 18,
      "outputs": [
        {
          "output_type": "stream",
          "name": "stdout",
          "text": [
            "+--------------+-----------+-------------+-----------+----+-----------------+--------------------+--------------------+\n",
            "|     review_id|star_rating|helpful_votes|total_votes|vine|verified_purchase|     review_headline|         review_body|\n",
            "+--------------+-----------+-------------+-----------+----+-----------------+--------------------+--------------------+\n",
            "|R1OAZUG90XPU2U|          5|          250|        274|   N|                Y|Way better than s...|I love these bars...|\n",
            "|R23VPTUJ8I8NR5|          1|           28|         30|   N|                Y|          DO NOT BUY|These dates were ...|\n",
            "| R6SRJFJ5YH4UM|          5|           23|         26|   N|                Y|            Love it!|I love it.  Taste...|\n",
            "|R3DOS07BIMP4DJ|          2|           32|         42|   N|                N|This is horrible ...|Thought I'd save ...|\n",
            "|R30PGWX4HN1CFG|          1|           85|         95|   N|                Y|Floating \"Dirt\" o...|I was drinking a ...|\n",
            "|R2XASGYIENUHQO|          5|           28|         32|   N|                Y|                   L|Now for the impor...|\n",
            "|R34UQPQCTSKQK9|          5|           23|         26|   N|                Y|  Yummy and healthy!|I originally saw ...|\n",
            "|R2M6WNM2OZZHKS|          1|           20|         22|   N|                N|this clear versio...|As many have stat...|\n",
            "| RO6JNMUJDE1LP|          5|           37|         50|   N|                N|A magical mystery...|My boss left thes...|\n",
            "|R1WNL4OIMSKDBR|          5|           35|         36|   N|                Y|       Awesome Sauce|The definition of...|\n",
            "| RDGWZ3U8LQZE6|          2|           48|         54|   N|                Y|Price increase fo...|I love this milk,...|\n",
            "|R3HFIKVOUDHT4I|          3|           64|         67|   N|                N|The regular bread...|Of my $100+ order...|\n",
            "| R22M0N2OZSICN|          5|           21|         23|   N|                Y|Great buy, price ...|Bought this for m...|\n",
            "|R1E43139TRHB5T|          5|           22|         22|   N|                Y|     Great Packaging|The packaging for...|\n",
            "|R1L40ST6C2UJHK|          5|          262|        272|   N|                Y|Thank you, lord o...|I almost never wr...|\n",
            "|R1XISUX6DDSXKZ|          5|           37|         41|   N|                Y|     Love this book!|I am such a fan o...|\n",
            "|R35MWO8UIXOA37|          1|           20|         22|   N|                Y|very very overpri...|very very overpri...|\n",
            "|R1RZ0G02ASP7SF|          2|           35|         43|   N|                Y|Does Not Tell How...|I am conflicted o...|\n",
            "|R10HZ77HAWVJH6|          5|           19|         22|   N|                Y|Organic Virgin co...|So I have been he...|\n",
            "|R1PI04EDGLLCXV|          5|           25|         28|   N|                Y|I was fortunate e...|I was fortunate e...|\n",
            "+--------------+-----------+-------------+-----------+----+-----------------+--------------------+--------------------+\n",
            "only showing top 20 rows\n",
            "\n"
          ]
        }
      ]
    },
    {
      "cell_type": "code",
      "source": [
        "# Create a table where the data is filtered where the percentage of helpful_votes is equal to or greater than 50% \n",
        "vine_helpful50_df = vote_count.filter(vote_count[\"helpful_votes\"]/vote_count[\"total_votes\"]>=0.5)\n",
        "vine_helpful50_df.show()"
      ],
      "metadata": {
        "colab": {
          "base_uri": "https://localhost:8080/"
        },
        "id": "fRa6rsIACYZz",
        "outputId": "d4d1e2bd-e053-42fc-e0c0-14dbc4c9d059"
      },
      "execution_count": 19,
      "outputs": [
        {
          "output_type": "stream",
          "name": "stdout",
          "text": [
            "+--------------+-----------+-------------+-----------+----+-----------------+--------------------+--------------------+\n",
            "|     review_id|star_rating|helpful_votes|total_votes|vine|verified_purchase|     review_headline|         review_body|\n",
            "+--------------+-----------+-------------+-----------+----+-----------------+--------------------+--------------------+\n",
            "|R1OAZUG90XPU2U|          5|          250|        274|   N|                Y|Way better than s...|I love these bars...|\n",
            "|R23VPTUJ8I8NR5|          1|           28|         30|   N|                Y|          DO NOT BUY|These dates were ...|\n",
            "| R6SRJFJ5YH4UM|          5|           23|         26|   N|                Y|            Love it!|I love it.  Taste...|\n",
            "|R3DOS07BIMP4DJ|          2|           32|         42|   N|                N|This is horrible ...|Thought I'd save ...|\n",
            "|R30PGWX4HN1CFG|          1|           85|         95|   N|                Y|Floating \"Dirt\" o...|I was drinking a ...|\n",
            "|R2XASGYIENUHQO|          5|           28|         32|   N|                Y|                   L|Now for the impor...|\n",
            "|R34UQPQCTSKQK9|          5|           23|         26|   N|                Y|  Yummy and healthy!|I originally saw ...|\n",
            "|R2M6WNM2OZZHKS|          1|           20|         22|   N|                N|this clear versio...|As many have stat...|\n",
            "| RO6JNMUJDE1LP|          5|           37|         50|   N|                N|A magical mystery...|My boss left thes...|\n",
            "|R1WNL4OIMSKDBR|          5|           35|         36|   N|                Y|       Awesome Sauce|The definition of...|\n",
            "| RDGWZ3U8LQZE6|          2|           48|         54|   N|                Y|Price increase fo...|I love this milk,...|\n",
            "|R3HFIKVOUDHT4I|          3|           64|         67|   N|                N|The regular bread...|Of my $100+ order...|\n",
            "| R22M0N2OZSICN|          5|           21|         23|   N|                Y|Great buy, price ...|Bought this for m...|\n",
            "|R1E43139TRHB5T|          5|           22|         22|   N|                Y|     Great Packaging|The packaging for...|\n",
            "|R1L40ST6C2UJHK|          5|          262|        272|   N|                Y|Thank you, lord o...|I almost never wr...|\n",
            "|R1XISUX6DDSXKZ|          5|           37|         41|   N|                Y|     Love this book!|I am such a fan o...|\n",
            "|R35MWO8UIXOA37|          1|           20|         22|   N|                Y|very very overpri...|very very overpri...|\n",
            "|R1RZ0G02ASP7SF|          2|           35|         43|   N|                Y|Does Not Tell How...|I am conflicted o...|\n",
            "|R10HZ77HAWVJH6|          5|           19|         22|   N|                Y|Organic Virgin co...|So I have been he...|\n",
            "|R1PI04EDGLLCXV|          5|           25|         28|   N|                Y|I was fortunate e...|I was fortunate e...|\n",
            "+--------------+-----------+-------------+-----------+----+-----------------+--------------------+--------------------+\n",
            "only showing top 20 rows\n",
            "\n"
          ]
        }
      ]
    },
    {
      "cell_type": "code",
      "source": [
        ""
      ],
      "metadata": {
        "id": "RjLtF_-OFRod"
      },
      "execution_count": null,
      "outputs": []
    },
    {
      "cell_type": "code",
      "source": [
        "# Create a df where the data is filtered to create a DataFrame or table where there is a Vine review\n",
        "vine_review_df = vine_helpful50_df.filter(vine_helpful50_df[\"vine\"] == \"Y\")\n",
        "vine_review_df.show()"
      ],
      "metadata": {
        "colab": {
          "base_uri": "https://localhost:8080/"
        },
        "id": "2iVKiGmuC0dG",
        "outputId": "be1cace4-94c3-438e-8dee-14bf173dfebc"
      },
      "execution_count": 20,
      "outputs": [
        {
          "output_type": "stream",
          "name": "stdout",
          "text": [
            "+--------------+-----------+-------------+-----------+----+-----------------+--------------------+--------------------+\n",
            "|     review_id|star_rating|helpful_votes|total_votes|vine|verified_purchase|     review_headline|         review_body|\n",
            "+--------------+-----------+-------------+-----------+----+-----------------+--------------------+--------------------+\n",
            "|R3MKO875WGIEBJ|          5|           34|         37|   Y|                N|My Top Coconut Oi...|I'm very strict w...|\n",
            "|R3OPNTK61FQ7MP|          5|           32|         37|   Y|                N|I Love the Taste ...|I've long been a ...|\n",
            "| RMDRU8I773X5U|          4|           22|         25|   Y|                N|      Almost perfect|I've been searchi...|\n",
            "| RR83RGWFEFZCL|          3|           61|         64|   Y|                N|Depends on what y...|Thai Kitchen Orga...|\n",
            "|R2TMZ7GV8SPIRV|          4|           23|         23|   Y|                N|        Pretty tasty|I like these chil...|\n",
            "| RX88JLUIFA4Q2|          4|           84|         87|   Y|                Y|How it compares t...|Not all coconut w...|\n",
            "| RV3AHTDRHDH7R|          5|          253|        258|   Y|                N|A Better Refined ...|Since I regularly...|\n",
            "|R1A76AK493C8P8|          5|           83|         90|   Y|                N|Nutritional drink...|As an nurse, we u...|\n",
            "|R3LOTAAVOZ9D1L|          3|           19|         26|   Y|                N|Serving size of 5...|There is no doubt...|\n",
            "|R1BRN47DX8UXA7|          5|          154|        159|   Y|                N|The best GLUTEN F...|I went gluten-fre...|\n",
            "|R13CEXESMDKT3D|          3|           33|         36|   Y|                N|smaller and sligh...|We regularly eat ...|\n",
            "|R1OM89J7BP8MUZ|          1|           23|         29|   Y|                N|            No treat|A great idea and ...|\n",
            "| RZP9LBF95AEHO|          3|           56|         58|   Y|                N|Holy unnecessary ...|Is your life inco...|\n",
            "|R3V9P61EYXDNRV|          5|           51|         54|   Y|                N|      Awesome flavor|This coffee is so...|\n",
            "|R2BDT05RK7TOJ9|          5|           21|         22|   Y|                N|Delicious, Digest...|GRINGO BANDITO HO...|\n",
            "|R2PFVGR88KV91R|          2|           16|         23|   Y|                N|Full of corn syru...|Unfortunately, Me...|\n",
            "|R2GOJRL2PW4JNM|          4|           24|         30|   Y|                N|Nice moist wipes,...|I like a lot abou...|\n",
            "|R1YXAF0GV7XW2V|          2|           24|         28|   Y|                N|Decent taste, dec...|If it was taste a...|\n",
            "|R1S9CD7RIIIBR3|          5|           30|         33|   Y|                N|Liked sample can ...|Just Chill's \\\\\"n...|\n",
            "| RZQVEYXN3YD1K|          3|           24|         30|   Y|                N|Mystery origin \"M...|I love genuine Ma...|\n",
            "+--------------+-----------+-------------+-----------+----+-----------------+--------------------+--------------------+\n",
            "only showing top 20 rows\n",
            "\n"
          ]
        }
      ]
    },
    {
      "cell_type": "code",
      "source": [
        "# Create a df where the data is filtered to create a DataFrame or table where there is NOT a Vine review\n",
        "no_vine_review_df = vine_helpful50_df.filter(vine_helpful50_df[\"vine\"] == \"N\")\n",
        "no_vine_review_df.show()"
      ],
      "metadata": {
        "colab": {
          "base_uri": "https://localhost:8080/"
        },
        "id": "5ggFQgfoFqfE",
        "outputId": "74a9d13c-3968-41d0-c26b-0f46fd3852ad"
      },
      "execution_count": 21,
      "outputs": [
        {
          "output_type": "stream",
          "name": "stdout",
          "text": [
            "+--------------+-----------+-------------+-----------+----+-----------------+--------------------+--------------------+\n",
            "|     review_id|star_rating|helpful_votes|total_votes|vine|verified_purchase|     review_headline|         review_body|\n",
            "+--------------+-----------+-------------+-----------+----+-----------------+--------------------+--------------------+\n",
            "|R1OAZUG90XPU2U|          5|          250|        274|   N|                Y|Way better than s...|I love these bars...|\n",
            "|R23VPTUJ8I8NR5|          1|           28|         30|   N|                Y|          DO NOT BUY|These dates were ...|\n",
            "| R6SRJFJ5YH4UM|          5|           23|         26|   N|                Y|            Love it!|I love it.  Taste...|\n",
            "|R3DOS07BIMP4DJ|          2|           32|         42|   N|                N|This is horrible ...|Thought I'd save ...|\n",
            "|R30PGWX4HN1CFG|          1|           85|         95|   N|                Y|Floating \"Dirt\" o...|I was drinking a ...|\n",
            "|R2XASGYIENUHQO|          5|           28|         32|   N|                Y|                   L|Now for the impor...|\n",
            "|R34UQPQCTSKQK9|          5|           23|         26|   N|                Y|  Yummy and healthy!|I originally saw ...|\n",
            "|R2M6WNM2OZZHKS|          1|           20|         22|   N|                N|this clear versio...|As many have stat...|\n",
            "| RO6JNMUJDE1LP|          5|           37|         50|   N|                N|A magical mystery...|My boss left thes...|\n",
            "|R1WNL4OIMSKDBR|          5|           35|         36|   N|                Y|       Awesome Sauce|The definition of...|\n",
            "| RDGWZ3U8LQZE6|          2|           48|         54|   N|                Y|Price increase fo...|I love this milk,...|\n",
            "|R3HFIKVOUDHT4I|          3|           64|         67|   N|                N|The regular bread...|Of my $100+ order...|\n",
            "| R22M0N2OZSICN|          5|           21|         23|   N|                Y|Great buy, price ...|Bought this for m...|\n",
            "|R1E43139TRHB5T|          5|           22|         22|   N|                Y|     Great Packaging|The packaging for...|\n",
            "|R1L40ST6C2UJHK|          5|          262|        272|   N|                Y|Thank you, lord o...|I almost never wr...|\n",
            "|R1XISUX6DDSXKZ|          5|           37|         41|   N|                Y|     Love this book!|I am such a fan o...|\n",
            "|R35MWO8UIXOA37|          1|           20|         22|   N|                Y|very very overpri...|very very overpri...|\n",
            "|R1RZ0G02ASP7SF|          2|           35|         43|   N|                Y|Does Not Tell How...|I am conflicted o...|\n",
            "|R10HZ77HAWVJH6|          5|           19|         22|   N|                Y|Organic Virgin co...|So I have been he...|\n",
            "|R1PI04EDGLLCXV|          5|           25|         28|   N|                Y|I was fortunate e...|I was fortunate e...|\n",
            "+--------------+-----------+-------------+-----------+----+-----------------+--------------------+--------------------+\n",
            "only showing top 20 rows\n",
            "\n"
          ]
        }
      ]
    },
    {
      "cell_type": "code",
      "source": [
        "# Total Number of Reviews\n",
        "vine_helpful50_df.count()"
      ],
      "metadata": {
        "colab": {
          "base_uri": "https://localhost:8080/"
        },
        "id": "--rOgw-xGyzX",
        "outputId": "e2a12cfa-bc13-48ce-a4f8-86edb0cb9591"
      },
      "execution_count": 36,
      "outputs": [
        {
          "output_type": "execute_result",
          "data": {
            "text/plain": [
              "26437"
            ]
          },
          "metadata": {},
          "execution_count": 36
        }
      ]
    },
    {
      "cell_type": "code",
      "source": [
        "# Total 5-star reviews\n",
        "five_star_count = vine_helpful50_df.filter(vine_helpful50_df[\"star_rating\"]== 5)\n",
        "five_star_count.count()"
      ],
      "metadata": {
        "colab": {
          "base_uri": "https://localhost:8080/"
        },
        "id": "B18dbChcHdFN",
        "outputId": "fcae1c60-e593-4e03-f9e1-e23942ada64b"
      },
      "execution_count": 30,
      "outputs": [
        {
          "output_type": "execute_result",
          "data": {
            "text/plain": [
              "14648"
            ]
          },
          "metadata": {},
          "execution_count": 30
        }
      ]
    },
    {
      "cell_type": "code",
      "source": [
        "# Percentage 5-star paid reviews\n",
        "vine_fives = vine_review_df.filter(vine_review_df[\"star_rating\"]== 5) \n",
        "vine_fives.count() / five_star_count.count()"
      ],
      "metadata": {
        "colab": {
          "base_uri": "https://localhost:8080/"
        },
        "id": "RSZOnJfgHdQ7",
        "outputId": "b862ac67-155f-4552-908e-bc80cbae2ce2"
      },
      "execution_count": 34,
      "outputs": [
        {
          "output_type": "execute_result",
          "data": {
            "text/plain": [
              "0.0012288367012561442"
            ]
          },
          "metadata": {},
          "execution_count": 34
        }
      ]
    },
    {
      "cell_type": "code",
      "source": [
        "# Percentage 5-star unpaid reviews\n",
        "no_vine_fives = no_vine_review_df.filter(no_vine_review_df[\"star_rating\"]== 5) \n",
        "no_vine_fives.count() / five_star_count.count()"
      ],
      "metadata": {
        "colab": {
          "base_uri": "https://localhost:8080/"
        },
        "id": "940dncHIHdcY",
        "outputId": "510de21a-0d6f-49b5-b81c-caf88399215f"
      },
      "execution_count": 35,
      "outputs": [
        {
          "output_type": "execute_result",
          "data": {
            "text/plain": [
              "0.9987711632987438"
            ]
          },
          "metadata": {},
          "execution_count": 35
        }
      ]
    },
    {
      "cell_type": "code",
      "source": [
        "vine_fives.count()"
      ],
      "metadata": {
        "colab": {
          "base_uri": "https://localhost:8080/"
        },
        "id": "5lyWSzYVGy1G",
        "outputId": "b73ab555-a9dd-4829-e284-a88a0f354b44"
      },
      "execution_count": 37,
      "outputs": [
        {
          "output_type": "execute_result",
          "data": {
            "text/plain": [
              "18"
            ]
          },
          "metadata": {},
          "execution_count": 37
        }
      ]
    },
    {
      "cell_type": "code",
      "source": [
        "no_vine_fives.count()"
      ],
      "metadata": {
        "colab": {
          "base_uri": "https://localhost:8080/"
        },
        "id": "qt7xzCTQRUr_",
        "outputId": "0ad0161d-3d61-4fdd-a3c1-341da86b942e"
      },
      "execution_count": 38,
      "outputs": [
        {
          "output_type": "execute_result",
          "data": {
            "text/plain": [
              "14630"
            ]
          },
          "metadata": {},
          "execution_count": 38
        }
      ]
    }
  ]
}